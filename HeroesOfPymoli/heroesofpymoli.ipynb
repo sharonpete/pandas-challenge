{
 "cells": [
  {
   "cell_type": "code",
   "execution_count": 1,
   "metadata": {},
   "outputs": [],
   "source": [
    "# Dependencies\n",
    "import pandas as pd"
   ]
  },
  {
   "cell_type": "code",
   "execution_count": 2,
   "metadata": {},
   "outputs": [],
   "source": [
    "# Save file path to variable\n",
    "purchase_data_csv = 'Resources/purchase_data.csv'"
   ]
  },
  {
   "cell_type": "code",
   "execution_count": 3,
   "metadata": {},
   "outputs": [
    {
     "data": {
      "text/html": [
       "<div>\n",
       "<style scoped>\n",
       "    .dataframe tbody tr th:only-of-type {\n",
       "        vertical-align: middle;\n",
       "    }\n",
       "\n",
       "    .dataframe tbody tr th {\n",
       "        vertical-align: top;\n",
       "    }\n",
       "\n",
       "    .dataframe thead th {\n",
       "        text-align: right;\n",
       "    }\n",
       "</style>\n",
       "<table border=\"1\" class=\"dataframe\">\n",
       "  <thead>\n",
       "    <tr style=\"text-align: right;\">\n",
       "      <th></th>\n",
       "      <th>Purchase ID</th>\n",
       "      <th>SN</th>\n",
       "      <th>Age</th>\n",
       "      <th>Gender</th>\n",
       "      <th>Item ID</th>\n",
       "      <th>Item Name</th>\n",
       "      <th>Price</th>\n",
       "    </tr>\n",
       "  </thead>\n",
       "  <tbody>\n",
       "    <tr>\n",
       "      <th>0</th>\n",
       "      <td>0</td>\n",
       "      <td>Lisim78</td>\n",
       "      <td>20</td>\n",
       "      <td>Male</td>\n",
       "      <td>108</td>\n",
       "      <td>Extraction, Quickblade Of Trembling Hands</td>\n",
       "      <td>3.53</td>\n",
       "    </tr>\n",
       "    <tr>\n",
       "      <th>1</th>\n",
       "      <td>1</td>\n",
       "      <td>Lisovynya38</td>\n",
       "      <td>40</td>\n",
       "      <td>Male</td>\n",
       "      <td>143</td>\n",
       "      <td>Frenzied Scimitar</td>\n",
       "      <td>1.56</td>\n",
       "    </tr>\n",
       "    <tr>\n",
       "      <th>2</th>\n",
       "      <td>2</td>\n",
       "      <td>Ithergue48</td>\n",
       "      <td>24</td>\n",
       "      <td>Male</td>\n",
       "      <td>92</td>\n",
       "      <td>Final Critic</td>\n",
       "      <td>4.88</td>\n",
       "    </tr>\n",
       "    <tr>\n",
       "      <th>3</th>\n",
       "      <td>3</td>\n",
       "      <td>Chamassasya86</td>\n",
       "      <td>24</td>\n",
       "      <td>Male</td>\n",
       "      <td>100</td>\n",
       "      <td>Blindscythe</td>\n",
       "      <td>3.27</td>\n",
       "    </tr>\n",
       "    <tr>\n",
       "      <th>4</th>\n",
       "      <td>4</td>\n",
       "      <td>Iskosia90</td>\n",
       "      <td>23</td>\n",
       "      <td>Male</td>\n",
       "      <td>131</td>\n",
       "      <td>Fury</td>\n",
       "      <td>1.44</td>\n",
       "    </tr>\n",
       "  </tbody>\n",
       "</table>\n",
       "</div>"
      ],
      "text/plain": [
       "   Purchase ID             SN  Age Gender  Item ID  \\\n",
       "0            0        Lisim78   20   Male      108   \n",
       "1            1    Lisovynya38   40   Male      143   \n",
       "2            2     Ithergue48   24   Male       92   \n",
       "3            3  Chamassasya86   24   Male      100   \n",
       "4            4      Iskosia90   23   Male      131   \n",
       "\n",
       "                                   Item Name  Price  \n",
       "0  Extraction, Quickblade Of Trembling Hands   3.53  \n",
       "1                          Frenzied Scimitar   1.56  \n",
       "2                               Final Critic   4.88  \n",
       "3                                Blindscythe   3.27  \n",
       "4                                       Fury   1.44  "
      ]
     },
     "execution_count": 3,
     "metadata": {},
     "output_type": "execute_result"
    }
   ],
   "source": [
    "# Read with Pandas\n",
    "heroes_df = pd.read_csv(purchase_data_csv)\n",
    "heroes_df.head()"
   ]
  },
  {
   "cell_type": "code",
   "execution_count": 8,
   "metadata": {},
   "outputs": [
    {
     "data": {
      "text/plain": [
       "780"
      ]
     },
     "execution_count": 8,
     "metadata": {},
     "output_type": "execute_result"
    }
   ],
   "source": [
    "# Player Count: Total Number of Players\n",
    "# Purchase ID is one unique field, another choice would be SN or Screen Name\n",
    "player_count = heroes_df[\"SN\"].count()\n",
    "player_count"
   ]
  },
  {
   "cell_type": "code",
   "execution_count": 23,
   "metadata": {},
   "outputs": [
    {
     "name": "stdout",
     "output_type": "stream",
     "text": [
      "Number of Unique Items: 179\n",
      "Number of Unique Items: 179\n",
      "Total Revenue: 2379.77\n",
      "Average Purchase Price: 3.0509871794871795\n"
     ]
    }
   ],
   "source": [
    "# Purchasing Analysis (Total)\n",
    "\n",
    "# Number of Unique Items\n",
    "items = heroes_df['Item Name'].nunique()\n",
    "print('Number of Unique Items: ' + str(items))\n",
    "print(f'Number of Unique Items: {items}')\n",
    "\n",
    "# Total Number of Purchases\n",
    "total_number_purchases = heroes_df['Purchase ID'].count()\n",
    "total_number_purchases\n",
    "\n",
    "# Total Revenue\n",
    "total_revenue = heroes_df['Price'].sum()\n",
    "#total_revenue = total_revenue.astype(float).map(\"${:, .2f}\".format)\n",
    "print(f'Total Revenue: {total_revenue}')\n",
    "\n",
    "# Average Purchase Price\n",
    "average_purchase_price = total_revenue/total_number_purchases\n",
    "print(f'Average Purchase Price: {average_purchase_price}')\n"
   ]
  },
  {
   "cell_type": "code",
   "execution_count": 49,
   "metadata": {},
   "outputs": [
    {
     "name": "stdout",
     "output_type": "stream",
     "text": [
      "Male                     652\n",
      "Female                   113\n",
      "Other / Non-Disclosed     15\n",
      "Name: Gender, dtype: int64\n",
      "Purchase ID    652\n",
      "SN             652\n",
      "Age            652\n",
      "Gender         652\n",
      "Item ID        652\n",
      "Item Name      652\n",
      "Price          652\n",
      "dtype: int64\n",
      "Purchase ID    0.835897\n",
      "SN             0.835897\n",
      "Age            0.835897\n",
      "Gender         0.835897\n",
      "Item ID        0.835897\n",
      "Item Name      0.835897\n",
      "Price          0.835897\n",
      "dtype: float64\n"
     ]
    }
   ],
   "source": [
    "# Gender Demographics\n",
    "\n",
    "gender_summary = heroes_df['Gender'].value_counts()\n",
    "print(gender_summary)\n",
    "\n",
    "# Percentage and Count of Male Players\n",
    "males = heroes_df.loc[heroes_df['Gender'] == 'Male',:].count()\n",
    "print(males)\n",
    "percent_of_males = males/player_count\n",
    "print(percent_of_males)\n",
    "#print(f'Count of Male Players: {males} and Percent of Male Players: {percent_of_males}')"
   ]
  },
  {
   "cell_type": "code",
   "execution_count": 51,
   "metadata": {},
   "outputs": [
    {
     "name": "stdout",
     "output_type": "stream",
     "text": [
      "Count of Female Players: Purchase ID    113\n",
      "SN             113\n",
      "Age            113\n",
      "Gender         113\n",
      "Item ID        113\n",
      "Item Name      113\n",
      "Price          113\n",
      "dtype: int64\n",
      "Purchase ID    0.144872\n",
      "SN             0.144872\n",
      "Age            0.144872\n",
      "Gender         0.144872\n",
      "Item ID        0.144872\n",
      "Item Name      0.144872\n",
      "Price          0.144872\n",
      "dtype: float64\n"
     ]
    }
   ],
   "source": [
    "# Percentage and Count of Female Players\n",
    "females = heroes_df.loc[heroes_df['Gender'] == \"Female\",:].count()\n",
    "print(f'Count of Female Players: {females}')\n",
    "percent_of_females = females/player_count\n",
    "print(percent_of_females)"
   ]
  },
  {
   "cell_type": "code",
   "execution_count": 52,
   "metadata": {},
   "outputs": [
    {
     "name": "stdout",
     "output_type": "stream",
     "text": [
      "Count of Other / Non-Disclosed Players: Purchase ID    15\n",
      "SN             15\n",
      "Age            15\n",
      "Gender         15\n",
      "Item ID        15\n",
      "Item Name      15\n",
      "Price          15\n",
      "dtype: int64\n",
      "Purchase ID    0.019231\n",
      "SN             0.019231\n",
      "Age            0.019231\n",
      "Gender         0.019231\n",
      "Item ID        0.019231\n",
      "Item Name      0.019231\n",
      "Price          0.019231\n",
      "dtype: float64\n"
     ]
    }
   ],
   "source": [
    "# Percentage and Count of Other / Non-Disclosed\n",
    "others = heroes_df.loc[heroes_df['Gender'] == \"Other / Non-Disclosed\",:].count()\n",
    "print(f'Count of Other / Non-Disclosed Players: {others}')\n",
    "percent_of_others = others/player_count\n",
    "print(percent_of_others)"
   ]
  },
  {
   "cell_type": "code",
   "execution_count": null,
   "metadata": {},
   "outputs": [],
   "source": [
    "# Purchasing Analysis (Gender)\n",
    "# Broken down by each gender:\n",
    "# Purchase Count\n",
    "# Average Purchase Price\n",
    "# Total Purchase Value \n",
    "# Average Purchase Total per Person by Gender"
   ]
  }
 ],
 "metadata": {
  "kernelspec": {
   "display_name": "Python 3",
   "language": "python",
   "name": "python3"
  },
  "language_info": {
   "codemirror_mode": {
    "name": "ipython",
    "version": 3
   },
   "file_extension": ".py",
   "mimetype": "text/x-python",
   "name": "python",
   "nbconvert_exporter": "python",
   "pygments_lexer": "ipython3",
   "version": "3.6.10"
  }
 },
 "nbformat": 4,
 "nbformat_minor": 4
}
